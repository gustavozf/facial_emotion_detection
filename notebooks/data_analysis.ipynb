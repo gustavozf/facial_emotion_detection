{
 "cells": [
  {
   "cell_type": "code",
   "execution_count": 75,
   "id": "b9777fef-4c2e-48d2-b163-5fd7cebb19a3",
   "metadata": {},
   "outputs": [],
   "source": [
    "import os\n",
    "import json\n",
    "from functools import partial\n",
    "\n",
    "import cv2\n",
    "import matplotlib.pyplot as plt\n",
    "import numpy as np\n",
    "import pandas as pd\n",
    "import tensorflow as tf"
   ]
  },
  {
   "cell_type": "code",
   "execution_count": 12,
   "id": "a4c1dce3-ce0e-4724-9817-e110ecd6b8f4",
   "metadata": {},
   "outputs": [],
   "source": [
    "DATA_PATH = '/home/zanoni/Documentos/fer_plus_project/face-emotion/data/'\n",
    "LABELS_FNAME = 'label.csv'\n",
    "TRAIN_PATH = os.path.join(DATA_PATH, 'FER2013Train')\n",
    "VAL_PATH = os.path.join(DATA_PATH, 'FER2013Valid')\n",
    "TEST_PATH = os.path.join(DATA_PATH, 'FER2013Test')"
   ]
  },
  {
   "cell_type": "code",
   "execution_count": 9,
   "id": "ab1a1c48-54b6-4f6d-8a01-ff0f6941e090",
   "metadata": {},
   "outputs": [],
   "source": [
    "LABELS = [\n",
    "    'neutral',\n",
    "    'happiness',\n",
    "    'surprise',\n",
    "    'sadness',\n",
    "    'anger',\n",
    "    'disgust',\n",
    "    'fear',\n",
    "    'contempt',\n",
    "    'unknown',\n",
    "    'not_a_face'\n",
    "]\n",
    "DF_COLUMNS = ['img_name', 'bbox', *LABELS]\n",
    "N_CLASSES = len(LABELS)"
   ]
  },
  {
   "cell_type": "markdown",
   "id": "0832fe24-bbc3-4d80-b52f-9ad99c6780ac",
   "metadata": {},
   "source": [
    "## Data Analysis\n",
    "Perform a small Exploratory Data Analysis on the train label CSVs, in order to check the labels distribution and bboxes."
   ]
  },
  {
   "cell_type": "code",
   "execution_count": 48,
   "id": "9ecd4a0d-f9ee-46f1-ab54-bcbf38f8562b",
   "metadata": {},
   "outputs": [
    {
     "data": {
      "text/html": [
       "<div>\n",
       "<style scoped>\n",
       "    .dataframe tbody tr th:only-of-type {\n",
       "        vertical-align: middle;\n",
       "    }\n",
       "\n",
       "    .dataframe tbody tr th {\n",
       "        vertical-align: top;\n",
       "    }\n",
       "\n",
       "    .dataframe thead th {\n",
       "        text-align: right;\n",
       "    }\n",
       "</style>\n",
       "<table border=\"1\" class=\"dataframe\">\n",
       "  <thead>\n",
       "    <tr style=\"text-align: right;\">\n",
       "      <th></th>\n",
       "      <th>img_name</th>\n",
       "      <th>bbox</th>\n",
       "      <th>neutral</th>\n",
       "      <th>happiness</th>\n",
       "      <th>surprise</th>\n",
       "      <th>sadness</th>\n",
       "      <th>anger</th>\n",
       "      <th>disgust</th>\n",
       "      <th>fear</th>\n",
       "      <th>contempt</th>\n",
       "      <th>unknown</th>\n",
       "      <th>not_a_face</th>\n",
       "    </tr>\n",
       "  </thead>\n",
       "  <tbody>\n",
       "    <tr>\n",
       "      <th>0</th>\n",
       "      <td>fer0000000.png</td>\n",
       "      <td>(0, 0, 48, 48)</td>\n",
       "      <td>4</td>\n",
       "      <td>0</td>\n",
       "      <td>0</td>\n",
       "      <td>1</td>\n",
       "      <td>3</td>\n",
       "      <td>2</td>\n",
       "      <td>0</td>\n",
       "      <td>0</td>\n",
       "      <td>0</td>\n",
       "      <td>0</td>\n",
       "    </tr>\n",
       "    <tr>\n",
       "      <th>1</th>\n",
       "      <td>fer0000001.png</td>\n",
       "      <td>(0, 0, 48, 48)</td>\n",
       "      <td>6</td>\n",
       "      <td>0</td>\n",
       "      <td>1</td>\n",
       "      <td>1</td>\n",
       "      <td>0</td>\n",
       "      <td>0</td>\n",
       "      <td>0</td>\n",
       "      <td>0</td>\n",
       "      <td>2</td>\n",
       "      <td>0</td>\n",
       "    </tr>\n",
       "    <tr>\n",
       "      <th>2</th>\n",
       "      <td>fer0000002.png</td>\n",
       "      <td>(0, 0, 48, 48)</td>\n",
       "      <td>5</td>\n",
       "      <td>0</td>\n",
       "      <td>0</td>\n",
       "      <td>3</td>\n",
       "      <td>1</td>\n",
       "      <td>0</td>\n",
       "      <td>0</td>\n",
       "      <td>0</td>\n",
       "      <td>1</td>\n",
       "      <td>0</td>\n",
       "    </tr>\n",
       "    <tr>\n",
       "      <th>3</th>\n",
       "      <td>fer0000003.png</td>\n",
       "      <td>(0, 0, 48, 48)</td>\n",
       "      <td>4</td>\n",
       "      <td>0</td>\n",
       "      <td>0</td>\n",
       "      <td>4</td>\n",
       "      <td>1</td>\n",
       "      <td>0</td>\n",
       "      <td>0</td>\n",
       "      <td>0</td>\n",
       "      <td>1</td>\n",
       "      <td>0</td>\n",
       "    </tr>\n",
       "    <tr>\n",
       "      <th>4</th>\n",
       "      <td>fer0000004.png</td>\n",
       "      <td>(0, 0, 48, 48)</td>\n",
       "      <td>9</td>\n",
       "      <td>0</td>\n",
       "      <td>0</td>\n",
       "      <td>1</td>\n",
       "      <td>0</td>\n",
       "      <td>0</td>\n",
       "      <td>0</td>\n",
       "      <td>0</td>\n",
       "      <td>0</td>\n",
       "      <td>0</td>\n",
       "    </tr>\n",
       "  </tbody>\n",
       "</table>\n",
       "</div>"
      ],
      "text/plain": [
       "         img_name            bbox  neutral  happiness  surprise  sadness  \\\n",
       "0  fer0000000.png  (0, 0, 48, 48)        4          0         0        1   \n",
       "1  fer0000001.png  (0, 0, 48, 48)        6          0         1        1   \n",
       "2  fer0000002.png  (0, 0, 48, 48)        5          0         0        3   \n",
       "3  fer0000003.png  (0, 0, 48, 48)        4          0         0        4   \n",
       "4  fer0000004.png  (0, 0, 48, 48)        9          0         0        1   \n",
       "\n",
       "   anger  disgust  fear  contempt  unknown  not_a_face  \n",
       "0      3        2     0         0        0           0  \n",
       "1      0        0     0         0        2           0  \n",
       "2      1        0     0         0        1           0  \n",
       "3      1        0     0         0        1           0  \n",
       "4      0        0     0         0        0           0  "
      ]
     },
     "execution_count": 48,
     "metadata": {},
     "output_type": "execute_result"
    }
   ],
   "source": [
    "df = pd.read_csv(\n",
    "    os.path.join(TRAIN_PATH, LABELS_FNAME),\n",
    "    header=None, index_col=None, names=DF_COLUMNS)\n",
    "df.head()"
   ]
  },
  {
   "cell_type": "code",
   "execution_count": 49,
   "id": "e935d4df-87c6-4e3b-88c4-0c8bbf11cb21",
   "metadata": {},
   "outputs": [],
   "source": [
    "# expand the image names to the full path\n",
    "df['img_name'] = TRAIN_PATH + os.sep + df['img_name']"
   ]
  },
  {
   "cell_type": "code",
   "execution_count": 50,
   "id": "d8c2488a-5f28-4a8c-8f1e-4787d5412ef4",
   "metadata": {},
   "outputs": [
    {
     "data": {
      "text/plain": [
       "label\n",
       "0    10295\n",
       "1     7526\n",
       "2     3557\n",
       "3     3530\n",
       "4     2463\n",
       "6      655\n",
       "5      191\n",
       "8      171\n",
       "7      168\n",
       "9        2\n",
       "Name: count, dtype: int64"
      ]
     },
     "execution_count": 50,
     "metadata": {},
     "output_type": "execute_result"
    }
   ],
   "source": [
    "# generate the label based on the annotations\n",
    "df['label'] = np.argmax(df.iloc[:, -N_CLASSES:], axis=1)\n",
    "df['label'].value_counts()"
   ]
  },
  {
   "cell_type": "code",
   "execution_count": 51,
   "id": "d479e239-cc33-40c6-92c5-1501961fa0d1",
   "metadata": {},
   "outputs": [
    {
     "data": {
      "text/plain": [
       "bbox\n",
       "(0, 0, 48, 48)    28558\n",
       "Name: count, dtype: int64"
      ]
     },
     "execution_count": 51,
     "metadata": {},
     "output_type": "execute_result"
    }
   ],
   "source": [
    "df['bbox'].value_counts()"
   ]
  },
  {
   "cell_type": "code",
   "execution_count": 52,
   "id": "359c2a83-426f-451c-aeb4-0a6ca46a73b3",
   "metadata": {},
   "outputs": [],
   "source": [
    "# remove redundant columns\n",
    "# since all bboxes have the same value, they all can be removed\n",
    "df = df.drop(LABELS + ['bbox'], axis=1)"
   ]
  },
  {
   "cell_type": "code",
   "execution_count": 53,
   "id": "4d793d87-7f99-468c-82d3-9ca2a8374a53",
   "metadata": {},
   "outputs": [
    {
     "data": {
      "text/html": [
       "<div>\n",
       "<style scoped>\n",
       "    .dataframe tbody tr th:only-of-type {\n",
       "        vertical-align: middle;\n",
       "    }\n",
       "\n",
       "    .dataframe tbody tr th {\n",
       "        vertical-align: top;\n",
       "    }\n",
       "\n",
       "    .dataframe thead th {\n",
       "        text-align: right;\n",
       "    }\n",
       "</style>\n",
       "<table border=\"1\" class=\"dataframe\">\n",
       "  <thead>\n",
       "    <tr style=\"text-align: right;\">\n",
       "      <th></th>\n",
       "      <th>img_name</th>\n",
       "      <th>label</th>\n",
       "    </tr>\n",
       "  </thead>\n",
       "  <tbody>\n",
       "    <tr>\n",
       "      <th>0</th>\n",
       "      <td>/home/zanoni/Documentos/fer_plus_project/face-...</td>\n",
       "      <td>0</td>\n",
       "    </tr>\n",
       "    <tr>\n",
       "      <th>1</th>\n",
       "      <td>/home/zanoni/Documentos/fer_plus_project/face-...</td>\n",
       "      <td>0</td>\n",
       "    </tr>\n",
       "    <tr>\n",
       "      <th>2</th>\n",
       "      <td>/home/zanoni/Documentos/fer_plus_project/face-...</td>\n",
       "      <td>0</td>\n",
       "    </tr>\n",
       "    <tr>\n",
       "      <th>3</th>\n",
       "      <td>/home/zanoni/Documentos/fer_plus_project/face-...</td>\n",
       "      <td>0</td>\n",
       "    </tr>\n",
       "    <tr>\n",
       "      <th>4</th>\n",
       "      <td>/home/zanoni/Documentos/fer_plus_project/face-...</td>\n",
       "      <td>0</td>\n",
       "    </tr>\n",
       "  </tbody>\n",
       "</table>\n",
       "</div>"
      ],
      "text/plain": [
       "                                            img_name  label\n",
       "0  /home/zanoni/Documentos/fer_plus_project/face-...      0\n",
       "1  /home/zanoni/Documentos/fer_plus_project/face-...      0\n",
       "2  /home/zanoni/Documentos/fer_plus_project/face-...      0\n",
       "3  /home/zanoni/Documentos/fer_plus_project/face-...      0\n",
       "4  /home/zanoni/Documentos/fer_plus_project/face-...      0"
      ]
     },
     "execution_count": 53,
     "metadata": {},
     "output_type": "execute_result"
    }
   ],
   "source": [
    "df.head()"
   ]
  },
  {
   "cell_type": "markdown",
   "id": "496bf8c4-831f-43f6-818a-df79d0a678e8",
   "metadata": {},
   "source": [
    "## Create TF Dataset"
   ]
  },
  {
   "cell_type": "code",
   "execution_count": 126,
   "id": "0f361009-5809-4d14-840e-3a411dd3526c",
   "metadata": {},
   "outputs": [
    {
     "data": {
      "text/plain": [
       "(<tf.Tensor: shape=(), dtype=string, numpy=b'/home/zanoni/Documentos/fer_plus_project/face-emotion/data/FER2013Train/fer0000000.png'>,\n",
       " <tf.Tensor: shape=(), dtype=int64, numpy=0>)"
      ]
     },
     "execution_count": 126,
     "metadata": {},
     "output_type": "execute_result"
    }
   ],
   "source": [
    "ds = tf.data.Dataset.from_tensor_slices((df['img_name'], df['label']))\n",
    "next(iter(ds))"
   ]
  },
  {
   "cell_type": "code",
   "execution_count": 127,
   "id": "13a0774e-1c74-4fcb-9ad5-56ddeca72812",
   "metadata": {},
   "outputs": [
    {
     "data": {
      "text/plain": [
       "(<tf.Tensor: shape=(), dtype=string, numpy=b'/home/zanoni/Documentos/fer_plus_project/face-emotion/data/FER2013Train/fer0028582.png'>,\n",
       " <tf.Tensor: shape=(), dtype=int64, numpy=2>)"
      ]
     },
     "execution_count": 127,
     "metadata": {},
     "output_type": "execute_result"
    }
   ],
   "source": [
    "ds = ds.shuffle(df.shape[0])\n",
    "next(iter(ds))"
   ]
  },
  {
   "cell_type": "code",
   "execution_count": 128,
   "id": "430e2b1f-d87b-4195-8902-7f6fe0f297ae",
   "metadata": {},
   "outputs": [
    {
     "data": {
      "text/plain": [
       "(<tf.Tensor: shape=(48, 48), dtype=uint8, numpy=\n",
       " array([[74, 78, 70, ..., 94, 94, 90],\n",
       "        [80, 88, 64, ..., 94, 94, 91],\n",
       "        [57, 64, 65, ..., 95, 94, 92],\n",
       "        ...,\n",
       "        [35, 35, 27, ..., 32, 32, 49],\n",
       "        [32, 32, 26, ..., 31, 32, 31],\n",
       "        [31, 28, 23, ..., 26, 26, 28]], dtype=uint8)>,\n",
       " <tf.Tensor: shape=(), dtype=int64, numpy=4>)"
      ]
     },
     "execution_count": 128,
     "metadata": {},
     "output_type": "execute_result"
    }
   ],
   "source": [
    "@tf.numpy_function(Tout=(tf.uint8, tf.int64))\n",
    "def read_gs_image(img_path, label):\n",
    "    return cv2.imread(img_path.decode(\"utf-8\"), 0), label\n",
    "\n",
    "ds = ds.map(read_gs_image, num_parallel_calls=tf.data.AUTOTUNE)\n",
    "next(iter(ds))"
   ]
  },
  {
   "cell_type": "code",
   "execution_count": 129,
   "id": "edac7aaa-2635-40f6-96ab-c26105491b3c",
   "metadata": {},
   "outputs": [
    {
     "data": {
      "text/plain": [
       "(<tf.Tensor: shape=(32, 48, 48), dtype=uint8, numpy=\n",
       " array([[[109,  52,  36, ...,  98,  98,  99],\n",
       "         [ 85,  36,  59, ...,  95,  99, 100],\n",
       "         [ 61,  59,  66, ...,  84, 102, 101],\n",
       "         ...,\n",
       "         [ 98,   0,  40, ...,  14,  30,  43],\n",
       "         [ 12,  29, 190, ...,  10,  38,  49],\n",
       "         [  0,  28,  77, ...,   4,   0,  46]],\n",
       " \n",
       "        [[242, 240, 248, ...,  33,  24,  17],\n",
       "         [242, 240, 248, ...,  21,  20,  19],\n",
       "         [242, 240, 249, ...,  20,  14,  13],\n",
       "         ...,\n",
       "         [235, 235, 235, ..., 233, 232, 232],\n",
       "         [235, 235, 235, ..., 231, 232, 231],\n",
       "         [235, 235, 235, ..., 239, 231, 231]],\n",
       " \n",
       "        [[166, 166, 166, ..., 135, 136, 136],\n",
       "         [167, 166, 167, ..., 138, 139, 138],\n",
       "         [169, 166, 163, ..., 139, 140, 139],\n",
       "         ...,\n",
       "         [ 25,  21,  48, ..., 132, 131, 129],\n",
       "         [ 27,  24,  18, ..., 134, 133, 131],\n",
       "         [ 29,  27,  24, ..., 135, 134, 132]],\n",
       " \n",
       "        ...,\n",
       " \n",
       "        [[241, 194,  73, ..., 255, 255, 255],\n",
       "         [205,  66,  20, ..., 255, 255, 255],\n",
       "         [ 77,  29,  26, ..., 255, 255, 255],\n",
       "         ...,\n",
       "         [255, 255, 255, ..., 255, 255, 255],\n",
       "         [255, 255, 255, ..., 226, 243, 252],\n",
       "         [255, 255, 255, ..., 164, 170, 184]],\n",
       " \n",
       "        [[138, 218, 252, ...,  23,  24,  25],\n",
       "         [245, 254, 250, ...,  25,  26,  25],\n",
       "         [251, 249, 250, ...,  23,  26,  29],\n",
       "         ...,\n",
       "         [209, 220, 217, ...,  73,  75, 138],\n",
       "         [216, 218, 223, ..., 172, 109, 113],\n",
       "         [221, 224, 230, ..., 165, 168, 192]],\n",
       " \n",
       "        [[ 45,  40,  48, ...,  76,  91,  88],\n",
       "         [ 51,  36,  41, ...,  70,  93,  86],\n",
       "         [ 46,  30,  33, ...,  68,  98,  87],\n",
       "         ...,\n",
       "         [131, 139, 139, ..., 210, 215, 214],\n",
       "         [135, 135, 137, ..., 215, 220, 218],\n",
       "         [139, 148, 158, ..., 220, 220, 223]]], dtype=uint8)>,\n",
       " <tf.Tensor: shape=(32,), dtype=int64, numpy=\n",
       " array([2, 4, 2, 1, 3, 0, 4, 1, 0, 0, 1, 1, 0, 4, 1, 6, 1, 0, 3, 0, 0, 0,\n",
       "        0, 1, 0, 0, 0, 2, 1, 2, 0, 1])>)"
      ]
     },
     "execution_count": 129,
     "metadata": {},
     "output_type": "execute_result"
    }
   ],
   "source": [
    "ds = ds.batch(32)\n",
    "next(iter(ds))"
   ]
  },
  {
   "cell_type": "code",
   "execution_count": 130,
   "id": "d056c380-ccea-47ec-8af4-f45467c2d789",
   "metadata": {},
   "outputs": [
    {
     "data": {
      "text/plain": [
       "(<tf.Tensor: shape=(32, 48, 48), dtype=float32, numpy=\n",
       " array([[[-0.5294118 , -0.7176471 , -0.5137255 , ..., -0.29411763,\n",
       "          -0.3333333 , -0.372549  ],\n",
       "         [-0.67058825, -0.67058825, -0.4823529 , ..., -0.26274508,\n",
       "          -0.30196077, -0.32549018],\n",
       "         [-0.78039217, -0.6392157 , -0.47450978, ..., -0.24705881,\n",
       "          -0.26274508, -0.29411763],\n",
       "         ...,\n",
       "         [ 0.02745104,  0.18431377,  0.4901961 , ..., -0.01176471,\n",
       "          -0.00392157, -0.08235294],\n",
       "         [ 0.30196083,  0.14509809,  0.17647064, ...,  0.02745104,\n",
       "          -0.06666666, -0.19999999],\n",
       "         [ 0.34901965,  0.32549024,  0.17647064, ..., -0.0745098 ,\n",
       "          -0.19215685, -0.16862744]],\n",
       " \n",
       "        [[-0.54509807, -0.52156866, -0.5058824 , ..., -0.2862745 ,\n",
       "          -0.2862745 , -0.29411763],\n",
       "         [-0.5294118 , -0.52156866, -0.5137255 , ..., -0.23921567,\n",
       "          -0.2235294 , -0.24705881],\n",
       "         [-0.5137255 , -0.5058824 , -0.5137255 , ..., -0.25490195,\n",
       "          -0.2235294 , -0.2235294 ],\n",
       "         ...,\n",
       "         [-0.4588235 , -0.79607844, -0.9529412 , ..., -0.90588236,\n",
       "          -0.8901961 , -0.8745098 ],\n",
       "         [-0.79607844, -0.9372549 , -0.8980392 , ..., -0.90588236,\n",
       "          -0.88235295, -0.8666667 ],\n",
       "         [-0.92156863, -0.90588236, -0.90588236, ..., -0.8901961 ,\n",
       "          -0.8745098 , -0.8745098 ]],\n",
       " \n",
       "        [[-0.4980392 , -0.4352941 , -0.42745095, ..., -0.40392154,\n",
       "          -0.4588235 , -0.44313723],\n",
       "         [-0.49019605, -0.40392154, -0.3098039 , ..., -0.35686272,\n",
       "          -0.3960784 , -0.54509807],\n",
       "         [-0.42745095, -0.40392154, -0.3098039 , ..., -0.41176468,\n",
       "          -0.372549  , -0.41176468],\n",
       "         ...,\n",
       "         [-0.92941177, -0.92941177, -0.92941177, ..., -0.09019607,\n",
       "          -0.47450978, -0.5137255 ],\n",
       "         [-0.92156863, -0.92941177, -0.92941177, ..., -0.56078434,\n",
       "          -0.3333333 , -0.08235294],\n",
       "         [-0.9137255 , -0.92941177, -0.92941177, ..., -0.31764704,\n",
       "          -0.11372548, -0.17647058]],\n",
       " \n",
       "        ...,\n",
       " \n",
       "        [[-0.2235294 , -0.24705881, -0.32549018, ..., -0.4588235 ,\n",
       "          -0.46666664, -0.4588235 ],\n",
       "         [-0.2862745 , -0.34117645, -0.3098039 , ..., -0.46666664,\n",
       "          -0.46666664, -0.4588235 ],\n",
       "         [-0.3098039 , -0.30196077, -0.41176468, ..., -0.4588235 ,\n",
       "          -0.46666664, -0.4588235 ],\n",
       "         ...,\n",
       "         [-0.5686275 , -0.6627451 , -0.64705884, ..., -0.372549  ,\n",
       "          -0.372549  , -0.372549  ],\n",
       "         [-0.3490196 , -0.6784314 , -0.654902  , ..., -0.38039213,\n",
       "          -0.372549  , -0.36470586],\n",
       "         [-0.14509803, -0.5686275 , -0.6784314 , ..., -0.38039213,\n",
       "          -0.372549  , -0.36470586]],\n",
       " \n",
       "        [[-0.30196077, -0.30196077, -0.30196077, ..., -0.47450978,\n",
       "          -0.58431375, -0.67058825],\n",
       "         [-0.29411763, -0.29411763, -0.29411763, ..., -0.3333333 ,\n",
       "          -0.49019605, -0.6156863 ],\n",
       "         [-0.30196077, -0.30196077, -0.30196077, ..., -0.14509803,\n",
       "          -0.3333333 , -0.4588235 ],\n",
       "         ...,\n",
       "         [-0.31764704, -0.31764704, -0.31764704, ..., -0.14509803,\n",
       "          -0.12156862, -0.09803921],\n",
       "         [-0.31764704, -0.31764704, -0.31764704, ..., -0.21568626,\n",
       "          -0.15294117, -0.14509803],\n",
       "         [-0.31764704, -0.31764704, -0.31764704, ..., -0.26274508,\n",
       "          -0.23921567, -0.2235294 ]],\n",
       " \n",
       "        [[ 0.62352943,  0.12156868, -0.8745098 , ..., -0.75686276,\n",
       "          -0.8509804 , -0.88235295],\n",
       "         [ 0.1686275 , -0.5529412 , -0.8509804 , ..., -0.7176471 ,\n",
       "          -0.84313726, -0.8509804 ],\n",
       "         [-0.00392157, -0.75686276, -0.79607844, ..., -0.6862745 ,\n",
       "          -0.7490196 , -0.78039217],\n",
       "         ...,\n",
       "         [ 0.8980392 ,  0.90588236,  0.9137255 , ...,  0.9137255 ,\n",
       "           0.9137255 ,  0.92156863],\n",
       "         [ 0.8980392 ,  0.8980392 ,  0.8980392 , ...,  0.90588236,\n",
       "           0.92156863,  0.92156863],\n",
       "         [ 0.8980392 ,  0.88235295,  0.8980392 , ...,  0.9529412 ,\n",
       "           0.8901961 ,  0.9137255 ]]], dtype=float32)>,\n",
       " <tf.Tensor: shape=(32,), dtype=int64, numpy=\n",
       " array([0, 1, 3, 0, 0, 1, 0, 3, 0, 2, 0, 4, 0, 0, 0, 1, 0, 0, 4, 1, 1, 2,\n",
       "        0, 0, 1, 1, 4, 4, 3, 0, 1, 1])>)"
      ]
     },
     "execution_count": 130,
     "metadata": {},
     "output_type": "execute_result"
    }
   ],
   "source": [
    "@tf.function\n",
    "def normalize_img(img_batch, label_batch):\n",
    "    # normalize image to the range of [-1, 1]\n",
    "    return 2*(img_batch / 255) - 1, label_batch\n",
    "\n",
    "ds = ds.map(normalize_img, num_parallel_calls=tf.data.AUTOTUNE)\n",
    "next(iter(ds))"
   ]
  },
  {
   "cell_type": "code",
   "execution_count": 125,
   "id": "f6a425b7-b32f-4dfc-8abd-28529b6f567a",
   "metadata": {},
   "outputs": [
    {
     "data": {
      "text/plain": [
       "(<tf.Tensor: shape=(32, 48, 48), dtype=uint8, numpy=\n",
       " array([[[101, 104, 113, ..., 251, 250, 250],\n",
       "         [138, 137, 160, ..., 249, 250, 253],\n",
       "         [191, 166, 140, ..., 246, 248, 253],\n",
       "         ...,\n",
       "         [112,  74,  58, ..., 216, 220, 218],\n",
       "         [118, 103,  85, ..., 224, 225, 219],\n",
       "         [117, 143, 126, ..., 227, 225, 218]],\n",
       " \n",
       "        [[  0,   0,   0, ...,  15,   2,   1],\n",
       "         [  0,   0,   0, ...,  17,   4,   0],\n",
       "         [  0,   0,   0, ...,   1,  10,   6],\n",
       "         ...,\n",
       "         [  6,   6,   8, ...,   0,   0,   0],\n",
       "         [  1,   0,   0, ...,   0,   0,   0],\n",
       "         [  0,   0,   2, ...,   0,   0,   0]],\n",
       " \n",
       "        [[ 68,  69,  72, ...,  60,  58,  58],\n",
       "         [ 66,  65,  61, ...,  62,  61,  60],\n",
       "         [ 67,  64,  59, ...,  63,  63,  61],\n",
       "         ...,\n",
       "         [ 31,  39,  47, ...,  62,  58,  57],\n",
       "         [ 35,  41,  45, ...,  59,  63,  58],\n",
       "         [ 38,  44,  45, ...,  54,  68,  62]],\n",
       " \n",
       "        ...,\n",
       " \n",
       "        [[159, 135, 106, ..., 187, 200, 209],\n",
       "         [149, 123,  96, ..., 164, 197, 191],\n",
       "         [146, 102, 113, ..., 143, 186, 180],\n",
       "         ...,\n",
       "         [227, 216, 195, ..., 219, 232, 230],\n",
       "         [223, 228, 218, ..., 222, 231, 241],\n",
       "         [223, 227, 225, ..., 215, 236, 243]],\n",
       " \n",
       "        [[226, 239, 237, ...,  55,  53,  78],\n",
       "         [239, 245, 241, ...,  70,  48,  73],\n",
       "         [246, 247, 245, ...,  87,  48,  73],\n",
       "         ...,\n",
       "         [159, 174, 192, ..., 127, 127, 130],\n",
       "         [155, 161, 173, ..., 138, 125, 130],\n",
       "         [147, 152, 158, ..., 147, 134, 123]],\n",
       " \n",
       "        [[ 31,  28,  41, ...,  31,  42,  42],\n",
       "         [ 32,  23,  47, ...,  28,  31,  42],\n",
       "         [ 31,  42,  51, ...,  16,  19,  29],\n",
       "         ...,\n",
       "         [ 11,  11,   9, ...,  64,  38,  97],\n",
       "         [ 11,  11,  11, ...,  51,  30,  54],\n",
       "         [  8,   9,  12, ...,  41,  27,  32]]], dtype=uint8)>,\n",
       " <tf.Tensor: shape=(32, 10), dtype=float32, numpy=\n",
       " array([[0., 1., 0., 0., 0., 0., 0., 0., 0., 0.],\n",
       "        [0., 0., 0., 0., 1., 0., 0., 0., 0., 0.],\n",
       "        [0., 0., 1., 0., 0., 0., 0., 0., 0., 0.],\n",
       "        [0., 1., 0., 0., 0., 0., 0., 0., 0., 0.],\n",
       "        [0., 0., 1., 0., 0., 0., 0., 0., 0., 0.],\n",
       "        [1., 0., 0., 0., 0., 0., 0., 0., 0., 0.],\n",
       "        [0., 0., 0., 1., 0., 0., 0., 0., 0., 0.],\n",
       "        [1., 0., 0., 0., 0., 0., 0., 0., 0., 0.],\n",
       "        [0., 1., 0., 0., 0., 0., 0., 0., 0., 0.],\n",
       "        [0., 0., 0., 1., 0., 0., 0., 0., 0., 0.],\n",
       "        [0., 1., 0., 0., 0., 0., 0., 0., 0., 0.],\n",
       "        [0., 0., 0., 0., 1., 0., 0., 0., 0., 0.],\n",
       "        [1., 0., 0., 0., 0., 0., 0., 0., 0., 0.],\n",
       "        [1., 0., 0., 0., 0., 0., 0., 0., 0., 0.],\n",
       "        [0., 0., 1., 0., 0., 0., 0., 0., 0., 0.],\n",
       "        [0., 0., 0., 1., 0., 0., 0., 0., 0., 0.],\n",
       "        [0., 0., 0., 0., 1., 0., 0., 0., 0., 0.],\n",
       "        [0., 0., 1., 0., 0., 0., 0., 0., 0., 0.],\n",
       "        [0., 1., 0., 0., 0., 0., 0., 0., 0., 0.],\n",
       "        [1., 0., 0., 0., 0., 0., 0., 0., 0., 0.],\n",
       "        [1., 0., 0., 0., 0., 0., 0., 0., 0., 0.],\n",
       "        [0., 1., 0., 0., 0., 0., 0., 0., 0., 0.],\n",
       "        [0., 1., 0., 0., 0., 0., 0., 0., 0., 0.],\n",
       "        [1., 0., 0., 0., 0., 0., 0., 0., 0., 0.],\n",
       "        [0., 1., 0., 0., 0., 0., 0., 0., 0., 0.],\n",
       "        [0., 0., 0., 0., 1., 0., 0., 0., 0., 0.],\n",
       "        [0., 0., 0., 0., 0., 1., 0., 0., 0., 0.],\n",
       "        [1., 0., 0., 0., 0., 0., 0., 0., 0., 0.],\n",
       "        [0., 0., 1., 0., 0., 0., 0., 0., 0., 0.],\n",
       "        [0., 0., 0., 0., 0., 1., 0., 0., 0., 0.],\n",
       "        [1., 0., 0., 0., 0., 0., 0., 0., 0., 0.],\n",
       "        [1., 0., 0., 0., 0., 0., 0., 0., 0., 0.]], dtype=float32)>)"
      ]
     },
     "execution_count": 125,
     "metadata": {},
     "output_type": "execute_result"
    }
   ],
   "source": [
    "@tf.function\n",
    "def label_to_one_hot(img_batch, label_batch, n_classes: int = 10):\n",
    "    return img_batch, tf.one_hot(label_batch, n_classes)\n",
    "\n",
    "ds = ds.map(\n",
    "    partial(label_to_one_hot, n_classes=N_CLASSES),\n",
    "    num_parallel_calls=tf.data.AUTOTUNE)\n",
    "next(iter(ds))"
   ]
  },
  {
   "cell_type": "code",
   "execution_count": null,
   "id": "867d80d7-1971-4b66-82f5-8a56fa603e57",
   "metadata": {},
   "outputs": [],
   "source": []
  }
 ],
 "metadata": {
  "kernelspec": {
   "display_name": "Python 3 (ipykernel)",
   "language": "python",
   "name": "python3"
  },
  "language_info": {
   "codemirror_mode": {
    "name": "ipython",
    "version": 3
   },
   "file_extension": ".py",
   "mimetype": "text/x-python",
   "name": "python",
   "nbconvert_exporter": "python",
   "pygments_lexer": "ipython3",
   "version": "3.10.0"
  }
 },
 "nbformat": 4,
 "nbformat_minor": 5
}
